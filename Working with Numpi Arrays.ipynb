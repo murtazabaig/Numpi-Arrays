{
 "cells": [
  {
   "cell_type": "code",
   "execution_count": 6,
   "id": "7bc79c00",
   "metadata": {},
   "outputs": [
    {
     "name": "stdout",
     "output_type": "stream",
     "text": [
      "[0 1 2 3 4 5 6 7 8 9]\n"
     ]
    }
   ],
   "source": [
    "#question 1\n",
    "import numpy as np\n",
    "abc_array = np.array([0, 1, 2, 3, 4, 5, 6, 7, 8, 9])\n",
    "print(abc_array)\n"
   ]
  },
  {
   "cell_type": "code",
   "execution_count": 33,
   "id": "15511017",
   "metadata": {},
   "outputs": [
    {
     "name": "stdout",
     "output_type": "stream",
     "text": [
      "[[8 6 8]\n",
      " [4 6 7]\n",
      " [5 8 8]]\n"
     ]
    }
   ],
   "source": [
    "#question 2\n",
    "import numpy as np\n",
    "import random \n",
    "rand_matrix = np.random.randint(1, 9, (( 3,3)))\n",
    "print(rand_matrix)\n"
   ]
  },
  {
   "cell_type": "code",
   "execution_count": 38,
   "id": "93f1a073",
   "metadata": {},
   "outputs": [
    {
     "name": "stdout",
     "output_type": "stream",
     "text": [
      "[[10 10 10]\n",
      " [10 10 10]\n",
      " [10 10 10]]\n",
      "[[-8 -6 -4]\n",
      " [-2  0  2]\n",
      " [ 4  6  8]]\n",
      "[[ 9 16 21]\n",
      " [24 25 24]\n",
      " [21 16  9]]\n",
      "\n",
      "Division Result:\n",
      "[[0.11111111 0.25       0.42857143]\n",
      " [0.66666667 1.         1.5       ]\n",
      " [2.33333333 4.         9.        ]]\n"
     ]
    }
   ],
   "source": [
    "#question 3\n",
    "import numpy as np\n",
    "a_array = np.array([[1, 2, 3], [4, 5, 6], [7, 8, 9]])\n",
    "b_array = np.array([[9, 8, 7], [6, 5, 4], [3, 2, 1]])\n",
    "addition_result = a_array + b_array\n",
    "print(addition_result)\n",
    "subtraction_result = a_array - b_array\n",
    "print(subtraction_result)\n",
    "multiplication_result = a_array * b_array\n",
    "print(multiplication_result)\n",
    "division_result = np.where(b_array != 0, a_array / b_array, 0)\n",
    "print(\"\\nDivision Result:\")\n",
    "print(division_result)\n"
   ]
  },
  {
   "cell_type": "code",
   "execution_count": 51,
   "id": "9813e70a",
   "metadata": {},
   "outputs": [
    {
     "name": "stdout",
     "output_type": "stream",
     "text": [
      "Mean: 12.875\n",
      "Median: 12.5\n",
      "Standard Deviation: 6.469882147303767\n"
     ]
    }
   ],
   "source": [
    "#question 4\n",
    "import numpy as np\n",
    "abc_array = np.array([3, 6, 9, 11, 14, 17, 20, 23])\n",
    "mean_value = np.mean(abc_array)\n",
    "median_value = np.median(abc_array)\n",
    "std_dev_value = np.std(abc_array)\n",
    "print(\"Mean:\", mean_value)\n",
    "print(\"Median:\", median_value)\n",
    "print(\"Standard Deviation:\", std_deviation_value)\n"
   ]
  },
  {
   "cell_type": "code",
   "execution_count": 44,
   "id": "b4a3c1d4",
   "metadata": {},
   "outputs": [
    {
     "name": "stdout",
     "output_type": "stream",
     "text": [
      "[0 2 4 6 8]\n"
     ]
    }
   ],
   "source": [
    "#question 5\n",
    "import numpy as np\n",
    "my_array = np.array([0, 1, 2, 3, 4, 5, 6, 7, 8, 9])\n",
    "even_indices = my_array[::2]\n",
    "print(even_indices)\n"
   ]
  },
  {
   "cell_type": "code",
   "execution_count": 45,
   "id": "b7178f19",
   "metadata": {},
   "outputs": [
    {
     "name": "stdout",
     "output_type": "stream",
     "text": [
      "[2 4 6 8]\n"
     ]
    }
   ],
   "source": [
    "#question 6\n",
    "import numpy as np\n",
    "my_array = np.array([1, 2, 3, 4, 5, 6, 7, 8, 9])\n",
    "condition = my_array % 2 == 0 \n",
    "filtered_array = my_array[condition]\n",
    "print(filtered_array)\n"
   ]
  },
  {
   "cell_type": "code",
   "execution_count": 50,
   "id": "b01e3377",
   "metadata": {},
   "outputs": [
    {
     "name": "stdout",
     "output_type": "stream",
     "text": [
      "Original Array:\n",
      "[ 1  2  3  4  5  6  7  8  9 10]\n",
      "\n",
      "Reshaped Array:\n",
      "[[ 1  2  3  4  5]\n",
      " [ 6  7  8  9 10]]\n"
     ]
    }
   ],
   "source": [
    "#question 7\n",
    "import numpy as np\n",
    "abc_array = np.array([1, 2, 3, 4, 5, 6, 7, 8, 9, 10])\n",
    "reshaped_array = abc_array.reshape(2, 5)  \n",
    "print(\"Original Array:\")\n",
    "print(abc_array)\n",
    "print(\"\\nReshaped Array:\")\n",
    "print(reshaped_array)\n"
   ]
  },
  {
   "cell_type": "code",
   "execution_count": 59,
   "id": "26df30c7",
   "metadata": {},
   "outputs": [
    {
     "name": "stdout",
     "output_type": "stream",
     "text": [
      "[ 0  1  2  3  4  5  6  7  8  9  1  2  3  4  5  6  7  8  9 10]\n",
      "[[ 0  1  2  3  4  5  6  7  8  9]\n",
      " [ 1  2  3  4  5  6  7  8  9 10]]\n"
     ]
    }
   ],
   "source": [
    "#question 8\n",
    "import numpy as np\n",
    "array1 = np.array([0, 1, 2, 3, 4, 5, 6, 7, 8, 9])\n",
    "array2 = np.array([1, 2, 3, 4, 5, 6, 7, 8, 9, 10])\n",
    "stack_horizontally = np.hstack((array1, array2))\n",
    "stack_vertically = np.vstack((array1, array2))\n",
    "print(stack_horizontally)\n",
    "print(stack_vertically)\n"
   ]
  },
  {
   "cell_type": "code",
   "execution_count": 60,
   "id": "fba24fb3",
   "metadata": {},
   "outputs": [
    {
     "name": "stdout",
     "output_type": "stream",
     "text": [
      "Element-wise Matrix Multiplication Result:\n",
      "[[ 5 12]\n",
      " [21 32]]\n",
      "\n",
      "Traditional Matrix Multiplication Result:\n",
      "[[19 22]\n",
      " [43 50]]\n"
     ]
    }
   ],
   "source": [
    "#question 9\n",
    "import numpy as np\n",
    "array1 = np.array([[1, 2], [3, 4]])\n",
    "array2 = np.array([[5, 6], [7, 8]])\n",
    "element_wise_result = array1 * array2\n",
    "print(\"Element-wise Matrix Multiplication Result:\")\n",
    "print(element_wise_result)\n",
    "matrix1 = np.array([[1, 2], [3, 4]])\n",
    "matrix2 = np.array([[5, 6], [7, 8]])\n",
    "matrix_multiplication_result = np.dot(matrix1, matrix2)\n",
    "print(\"\\nTraditional Matrix Multiplication Result:\")\n",
    "print(matrix_multiplication_result)\n"
   ]
  },
  {
   "cell_type": "code",
   "execution_count": 61,
   "id": "0e76bb01",
   "metadata": {},
   "outputs": [
    {
     "name": "stdout",
     "output_type": "stream",
     "text": [
      "4\n",
      "1\n",
      "3\n",
      "0\n"
     ]
    }
   ],
   "source": [
    "#Question 10\n",
    "import numpy as np\n",
    "max_value = np.max(array1)\n",
    "min_value = np.min(array1)\n",
    "max_index = np.argmax(array1)\n",
    "min_index = np.argmin(array1)\n",
    "print(max_value)\n",
    "print(min_value)\n",
    "print(max_index)\n",
    "print(min_index)"
   ]
  },
  {
   "cell_type": "code",
   "execution_count": 63,
   "id": "110356b8",
   "metadata": {
    "scrolled": true
   },
   "outputs": [
    {
     "name": "stdout",
     "output_type": "stream",
     "text": [
      "Matrix:\n",
      "[[6 2 5]\n",
      " [1 7 6]\n",
      " [4 6 6]]\n",
      "sum of rows:\n",
      "[13 14 16]\n",
      "sum of columns:\n",
      "[11 15 17]\n"
     ]
    }
   ],
   "source": [
    "#Q11\n",
    "import numpy as np\n",
    "matrix = np.random.randint(0,10,(3, 3))\n",
    "sum_rows = np.sum(matrix, axis=1)\n",
    "sum_columns = np.sum(matrix, axis=0)\n",
    "print(\"Matrix:\")\n",
    "print(matrix)\n",
    "print(\"sum of rows:\")\n",
    "print(sum_rows)\n",
    "print(\"sum of columns:\")\n",
    "print(sum_columns)"
   ]
  },
  {
   "cell_type": "code",
   "execution_count": null,
   "id": "e0b0ef0e",
   "metadata": {},
   "outputs": [],
   "source": []
  },
  {
   "cell_type": "code",
   "execution_count": 74,
   "id": "31a7127a",
   "metadata": {},
   "outputs": [
    {
     "name": "stdout",
     "output_type": "stream",
     "text": [
      "1. Mean Temperature: 25.575000000000003\n",
      "   Standard Deviation: 1.5562374497485914\n",
      "   Variance: 2.4218749999999996\n",
      "2. Location with the Highest Average Temperature: 1\n",
      "   Location with the Lowest Average Temperature: 2\n",
      "3. Year with the Highest Temperature Variance: 2\n"
     ]
    }
   ],
   "source": [
    "#Q13\n",
    "import numpy as np\n",
    "temperature_data = np.array([\n",
    "    [25.1, 26.2, 24.9, 25.5],\n",
    "    [27.3, 26.8, 27.7, 28.0],\n",
    "    [23.8, 24.5, 23.0, 24.1]\n",
    "])\n",
    "\n",
    "mean_temperature = np.mean(temperature_data)\n",
    "std_deviation = np.std(temperature_data)\n",
    "variance = np.var(temperature_data)\n",
    "mean_temperature_by_location = np.mean(temperature_data, axis=1)\n",
    "max_mean_location = np.argmax(mean_temperature_by_location)\n",
    "min_mean_location = np.argmin(mean_temperature_by_location)\n",
    "variance_by_year = np.var(temperature_data, axis=0)\n",
    "year_with_highest_variance = np.argmax(variance_by_year)\n",
    "print(\"1. Mean Temperature:\", mean_temperature)\n",
    "print(\"   Standard Deviation:\", std_deviation)\n",
    "print(\"   Variance:\", variance)\n",
    "print(\"2. Location with the Highest Average Temperature:\", max_mean_location)\n",
    "print(\"   Location with the Lowest Average Temperature:\", min_mean_location)\n",
    "print(\"3. Year with the Highest Temperature Variance:\", year_with_highest_variance)"
   ]
  },
  {
   "cell_type": "code",
   "execution_count": null,
   "id": "1bca6a02",
   "metadata": {},
   "outputs": [],
   "source": []
  }
 ],
 "metadata": {
  "kernelspec": {
   "display_name": "Python 3 (ipykernel)",
   "language": "python",
   "name": "python3"
  },
  "language_info": {
   "codemirror_mode": {
    "name": "ipython",
    "version": 3
   },
   "file_extension": ".py",
   "mimetype": "text/x-python",
   "name": "python",
   "nbconvert_exporter": "python",
   "pygments_lexer": "ipython3",
   "version": "3.11.4"
  }
 },
 "nbformat": 4,
 "nbformat_minor": 5
}
